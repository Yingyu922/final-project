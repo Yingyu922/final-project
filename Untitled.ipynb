{
 "cells": [
  {
   "cell_type": "code",
   "execution_count": 6,
   "id": "cade3429",
   "metadata": {},
   "outputs": [
    {
     "ename": "ModuleNotFoundError",
     "evalue": "No module named 'pytask'",
     "output_type": "error",
     "traceback": [
      "\u001b[1;31m---------------------------------------------------------------------------\u001b[0m",
      "\u001b[1;31mModuleNotFoundError\u001b[0m                       Traceback (most recent call last)",
      "\u001b[1;32m~\\AppData\\Local\\Temp\\ipykernel_17768\\3325894722.py\u001b[0m in \u001b[0;36m<module>\u001b[1;34m\u001b[0m\n\u001b[0;32m      1\u001b[0m \u001b[1;32mimport\u001b[0m \u001b[0mpandas\u001b[0m \u001b[1;32mas\u001b[0m \u001b[0mpd\u001b[0m\u001b[1;33m\u001b[0m\u001b[1;33m\u001b[0m\u001b[0m\n\u001b[0;32m      2\u001b[0m \u001b[1;32mimport\u001b[0m \u001b[0mnumpy\u001b[0m \u001b[1;32mas\u001b[0m \u001b[0mnp\u001b[0m\u001b[1;33m\u001b[0m\u001b[1;33m\u001b[0m\u001b[0m\n\u001b[1;32m----> 3\u001b[1;33m \u001b[1;32mimport\u001b[0m \u001b[0mpytask\u001b[0m\u001b[1;33m\u001b[0m\u001b[1;33m\u001b[0m\u001b[0m\n\u001b[0m",
      "\u001b[1;31mModuleNotFoundError\u001b[0m: No module named 'pytask'"
     ]
    }
   ],
   "source": [
    "import pandas as pd\n",
    "import numpy as np\n",
    "import pytask"
   ]
  },
  {
   "cell_type": "code",
   "execution_count": 4,
   "id": "08bf02ce",
   "metadata": {},
   "outputs": [],
   "source": [
    "def clean_emp(sic_naics, data):\n",
    "    \"\"\"_summary_\n",
    "\n",
    "    Args:\n",
    "        sic_naics (_type_): _description_\n",
    "        data (_type_): _description_\n",
    "\n",
    "    Returns:\n",
    "        _type_: _description_\n",
    "    \"\"\"\n",
    "    sic_naics.set_index(['naics super','Measure'],inplace=True)\n",
    "    sic_naics = sic_naics.applymap(lambda x: x if x>= 0 else 0)\n",
    "    sic_naics_shares = sic_naics.xs('Percent',level=1)\n",
    "    sic_naics_shares = sic_naics_shares.reset_index().rename(columns={'index':'naics super'})\n",
    "    cols = sic_naics_shares.columns.values[1:]\n",
    "    sic_naics_shares=pd.melt(sic_naics_shares,id_vars=['naics super'],value_vars=cols,var_name='sic',value_name='share')\n",
    "    sic_naics_shares['naics super'].unique()\n",
    "    naics_2_digit_super = {'Education and health services':'Education and health services' , \n",
    "            'Leisure and hospitality': 'Leisure and hospitality',\n",
    "            'Mining and logging':'Mining and logging',\n",
    "            'Utilities' : 'Trade, transportation, and utilities',\n",
    "            'Construction' :  'Construction',\n",
    "            'Wholesale Trade': 'Trade, transportation, and utilities',\n",
    "            'Information':'Information',\n",
    "            'Other services, except Public Administration':'Other services',\n",
    "            'Other services':'Other services',          \n",
    "            'Manufacturing':'Manufacturing',\n",
    "            'Retail Trade': 'Trade, transportation, and utilities',\n",
    "            'Transportation and Warehousing':'Trade, transportation, and utilities',\n",
    "            'Trade, transportation, and utilities':'Trade, transportation, and utilities',           \n",
    "            'Financial activities':'Financial activities',\n",
    "            'Professional and business services':'Professional and business services',\n",
    "            'Government':'Government'}\n",
    "    data['naics super'] = data.naics.map(naics_2_digit_super)\n",
    "    g = lambda x: data[data.naics==x]['emp'].values[0]\n",
    "    naics_super_emp = data['naics super'].map(g)\n",
    "    data['naics super emp'] = naics_super_emp\n",
    "    data['emp share'] = data['emp']/data['naics super emp']\n",
    "    sic_naics_shares = sic_naics_shares.merge(data,on='naics super',how='left')\n",
    "    sic_naics_share = sic_naics_shares.rename(columns={'share':'sic share', 'emp share': 'naics share'}).drop(\n",
    "    ['emp','naics super emp'],axis=1)\n",
    "    sic_naics_share['share'] = sic_naics_share['sic share']/100*sic_naics_share['naics share']\n",
    "    naics_sic_share  = sic_naics_share.groupby(['sic','naics'])['share'].sum().reset_index()\n",
    "    naics_sic_share.groupby('naics').sum(numeric_only=True)\n",
    "    return naics_sic_share"
   ]
  },
  {
   "cell_type": "code",
   "execution_count": 5,
   "id": "44f21f65",
   "metadata": {},
   "outputs": [
    {
     "ename": "NameError",
     "evalue": "name 'pytask' is not defined",
     "output_type": "error",
     "traceback": [
      "\u001b[1;31m---------------------------------------------------------------------------\u001b[0m",
      "\u001b[1;31mNameError\u001b[0m                                 Traceback (most recent call last)",
      "\u001b[1;32m~\\AppData\\Local\\Temp\\ipykernel_17768\\1059765553.py\u001b[0m in \u001b[0;36m<module>\u001b[1;34m\u001b[0m\n\u001b[1;32m----> 1\u001b[1;33m @pytask.mark.depends_on(\n\u001b[0m\u001b[0;32m      2\u001b[0m     {\n\u001b[0;32m      3\u001b[0m         \u001b[1;34m\"scripts\"\u001b[0m\u001b[1;33m:\u001b[0m \u001b[1;33m[\u001b[0m\u001b[1;34m\"clean_data.py\"\u001b[0m\u001b[1;33m]\u001b[0m\u001b[1;33m,\u001b[0m\u001b[1;33m\u001b[0m\u001b[1;33m\u001b[0m\u001b[0m\n\u001b[0;32m      4\u001b[0m         \u001b[1;31m# \"bds\": SRC / \"data\" / \"bds_all.csv\",\u001b[0m\u001b[1;33m\u001b[0m\u001b[1;33m\u001b[0m\u001b[0m\n\u001b[0;32m      5\u001b[0m         \u001b[1;34m\"sic_naics\"\u001b[0m\u001b[1;33m:\u001b[0m \u001b[0mSRC\u001b[0m \u001b[1;33m/\u001b[0m \u001b[1;34m\"data\"\u001b[0m \u001b[1;33m/\u001b[0m \u001b[1;34m\"sic-naics.xlsx\"\u001b[0m\u001b[1;33m,\u001b[0m\u001b[1;33m\u001b[0m\u001b[1;33m\u001b[0m\u001b[0m\n",
      "\u001b[1;31mNameError\u001b[0m: name 'pytask' is not defined"
     ]
    }
   ],
   "source": [
    "@pytask.mark.depends_on(\n",
    "    {\n",
    "        \"scripts\": [\"clean_data.py\"],\n",
    "        # \"bds\": SRC / \"data\" / \"bds_all.csv\",\n",
    "        \"sic_naics\": SRC / \"data\" / \"sic-naics.xlsx\",\n",
    "        \"data\": SRC / \"data\" / \"emp.csv\",\n",
    "        \"io_naics\": SRC / \"data\" / \"io_naics_raw.csv\",\n",
    "        # \"io\": SRC / \"data\" / \"io.csv\",\n",
    "    },\n",
    ")\n",
    "@pytask.mark.produces(BLD / \"python\" / \"data\" / \"naics_sic_share.csv\")\n",
    "def task_clean_nss_python(depends_on, produces):\n",
    "    \"\"\"Generate cleaned data.\n",
    "\n",
    "    Args:\n",
    "        depends_on (_type_): _description_\n",
    "        produces (_type_): _description_\n",
    "    \"\"\"\n",
    "    data = pd.read_csv(depends_on[\"data\"])\n",
    "    # bds = pd.read_csv(depends_on[\"bds\"])\n",
    "    sic_naics = pd.read_excel(depends_on[\"sic_naics\"])\n",
    "    io_naics = pd.read_csv(depends_on[\"io_naics\"])\n",
    "    # io = pd.read_csv(depends_on[\"io\"])\n",
    "    naics_sic_share,io_naics = clean_data(sic_naics, data, io_naics )\n",
    "    naics_sic_share.to_csv(produces, index=False)"
   ]
  },
  {
   "cell_type": "code",
   "execution_count": null,
   "id": "739f6c81",
   "metadata": {},
   "outputs": [],
   "source": []
  }
 ],
 "metadata": {
  "kernelspec": {
   "display_name": "Python 3 (ipykernel)",
   "language": "python",
   "name": "python3"
  },
  "language_info": {
   "codemirror_mode": {
    "name": "ipython",
    "version": 3
   },
   "file_extension": ".py",
   "mimetype": "text/x-python",
   "name": "python",
   "nbconvert_exporter": "python",
   "pygments_lexer": "ipython3",
   "version": "3.9.13"
  }
 },
 "nbformat": 4,
 "nbformat_minor": 5
}
